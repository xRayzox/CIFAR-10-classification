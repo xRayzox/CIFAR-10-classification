{
  "cells": [
    {
      "cell_type": "markdown",
      "metadata": {
        "id": "gbx96nWgHEpk"
      },
      "source": [
        "\n",
        "**Library**"
      ]
    },
    {
      "cell_type": "code",
      "execution_count": 16,
      "metadata": {
        "id": "h1hcph9NHEK6"
      },
      "outputs": [],
      "source": [
        "import tensorflow as tf\n",
        "from tensorflow.keras import datasets, layers,models\n",
        "import matplotlib.pyplot as plt\n",
        "import numpy as np"
      ]
    },
    {
      "cell_type": "code",
      "execution_count": 17,
      "metadata": {
        "colab": {
          "base_uri": "https://localhost:8080/"
        },
        "id": "b34lJ0CiHlEK",
        "outputId": "6eb38a04-baf3-4d43-8ab5-e506d8d93eba"
      },
      "outputs": [],
      "source": [
        "(X_train,y_train) , (X_test,y_test)=datasets.cifar10.load_data()"
      ]
    },
    {
      "cell_type": "code",
      "execution_count": 18,
      "metadata": {
        "colab": {
          "base_uri": "https://localhost:8080/"
        },
        "id": "eH6e4i_JHys-",
        "outputId": "c4acae40-cf8c-4b4e-cbd1-c423a601696c"
      },
      "outputs": [
        {
          "data": {
            "text/plain": [
              "(50000, 32, 32, 3)"
            ]
          },
          "execution_count": 18,
          "metadata": {},
          "output_type": "execute_result"
        }
      ],
      "source": [
        "X_train.shape"
      ]
    },
    {
      "cell_type": "code",
      "execution_count": 19,
      "metadata": {
        "colab": {
          "base_uri": "https://localhost:8080/"
        },
        "id": "w39o_e_nLEdg",
        "outputId": "22dbd23e-71c4-46be-ff34-99e781107011"
      },
      "outputs": [
        {
          "data": {
            "text/plain": [
              "array([6, 9, 9, 4, 1], dtype=uint8)"
            ]
          },
          "execution_count": 19,
          "metadata": {},
          "output_type": "execute_result"
        }
      ],
      "source": [
        "y_train = y_train.reshape(-1,)\n",
        "y_train[:5]"
      ]
    },
    {
      "cell_type": "code",
      "execution_count": 20,
      "metadata": {
        "id": "OCRttrVlLOLg"
      },
      "outputs": [],
      "source": [
        "y_test = y_test.reshape(-1,)"
      ]
    },
    {
      "cell_type": "code",
      "execution_count": 21,
      "metadata": {
        "id": "rCS6Az8_JxJ7"
      },
      "outputs": [],
      "source": [
        "classes=[\"airplane\",\"automobile\",\"bird\",\"cat\",\"deer\",\"dog\",\"frog\",\"horse\",\"ship\",\"truck\"]"
      ]
    },
    {
      "cell_type": "code",
      "execution_count": 22,
      "metadata": {
        "id": "OOv_2UAvIRFO"
      },
      "outputs": [],
      "source": [
        "def plot_exemple(X,y,index):\n",
        "  plt.figure(figsize = (15,2))\n",
        "  plt.imshow(X[index])\n",
        "  plt.xlabel(classes[y[index]])\n"
      ]
    },
    {
      "cell_type": "code",
      "execution_count": 23,
      "metadata": {
        "colab": {
          "base_uri": "https://localhost:8080/",
          "height": 237
        },
        "id": "nDtQeB0AI2dO",
        "outputId": "251f97e7-456b-4fba-ed85-c0f90f647f5b"
      },
      "outputs": [
        {
          "data": {
            "image/png": "[encoded data removed]",
            "text/plain": [
              "<Figure size 1500x200 with 1 Axes>"
            ]
          },
          "metadata": {},
          "output_type": "display_data"
        }
      ],
      "source": [
        "plot_exemple(X_train,y_train,6)"
      ]
    },
    {
      "cell_type": "code",
      "execution_count": 24,
      "metadata": {
        "id": "0YxXd7TILTeA"
      },
      "outputs": [],
      "source": [
        "X_train = X_train/255.0\n",
        "X_test = X_test/255.0\n"
      ]
    },
    {
      "cell_type": "code",
      "execution_count": 25,
      "metadata": {
        "colab": {
          "base_uri": "https://localhost:8080/"
        },
        "id": "B50Z2yV9cqdh",
        "outputId": "09435b30-cb7e-44d8-9767-47ebc89f121d"
      },
      "outputs": [
        {
          "name": "stdout",
          "output_type": "stream",
          "text": [
            "Model: \"sequential_1\"\n",
            "_________________________________________________________________\n",
            " Layer (type)                Output Shape              Param #   \n",
            "=================================================================\n",
            " conv2d_3 (Conv2D)           (None, 30, 30, 32)        896       \n",
            "                                                                 \n",
            " max_pooling2d_3 (MaxPoolin  (None, 15, 15, 32)        0         \n",
            " g2D)                                                            \n",
            "                                                                 \n",
            " conv2d_4 (Conv2D)           (None, 13, 13, 64)        18496     \n",
            "                                                                 \n",
            " max_pooling2d_4 (MaxPoolin  (None, 6, 6, 64)          0         \n",
            " g2D)                                                            \n",
            "                                                                 \n",
            " conv2d_5 (Conv2D)           (None, 4, 4, 128)         73856     \n",
            "                                                                 \n",
            " max_pooling2d_5 (MaxPoolin  (None, 2, 2, 128)         0         \n",
            " g2D)                                                            \n",
            "                                                                 \n",
            " flatten_1 (Flatten)         (None, 512)               0         \n",
            "                                                                 \n",
            " dense_2 (Dense)             (None, 256)               131328    \n",
            "                                                                 \n",
            " dense_3 (Dense)             (None, 10)                2570      \n",
            "                                                                 \n",
            "=================================================================\n",
            "Total params: 227146 (887.29 KB)\n",
            "Trainable params: 227146 (887.29 KB)\n",
            "Non-trainable params: 0 (0.00 Byte)\n",
            "_________________________________________________________________\n"
          ]
        }
      ],
      "source": [
        "ann = models.Sequential()\n",
        "ann.add(layers.Conv2D(32,(3,3),activation='relu',input_shape=(32,32,3)))\n",
        "ann.add(layers.MaxPooling2D(2,2))\n",
        "ann.add(layers.Conv2D(64,(3,3),activation='relu'))\n",
        "ann.add(layers.MaxPooling2D(2,2))\n",
        "ann.add(layers.Conv2D(128,(3,3),activation='relu'))\n",
        "ann.add(layers.MaxPooling2D(2,2))\n",
        "ann.add(layers.Flatten())\n",
        "ann.add(layers.Dense(256,activation='relu'))\n",
        "ann.add(layers.Dense(10,activation='softmax'))\n",
        "ann.summary()\n"
      ]
    },
    {
      "cell_type": "code",
      "execution_count": 26,
      "metadata": {
        "id": "TLn7Y5MXfARj"
      },
      "outputs": [],
      "source": [
        "ann.compile(optimizer='adam',\n",
        "              loss='sparse_categorical_crossentropy',\n",
        "              metrics=['accuracy'])"
      ]
    },
    {
      "cell_type": "code",
      "execution_count": 32,
      "metadata": {
        "colab": {
          "base_uri": "https://localhost:8080/"
        },
        "id": "GvvZxp6rfKJP",
        "outputId": "cc933fe5-6385-4b9d-8754-155ab0408669"
      },
      "outputs": [
        {
          "name": "stdout",
          "output_type": "stream",
          "text": [
            "Epoch 1/20\n",
            "1563/1563 [==============================] - 37s 24ms/step - loss: 0.6915 - accuracy: 0.7575\n",
            "Epoch 2/20\n",
            "1563/1563 [==============================] - 33s 21ms/step - loss: 0.6341 - accuracy: 0.7754\n",
            "Epoch 3/20\n",
            "1563/1563 [==============================] - 31s 20ms/step - loss: 0.5833 - accuracy: 0.7944\n",
            "Epoch 4/20\n",
            "1563/1563 [==============================] - 35s 22ms/step - loss: 0.5347 - accuracy: 0.8109\n",
            "Epoch 5/20\n",
            "1563/1563 [==============================] - 24s 16ms/step - loss: 0.4878 - accuracy: 0.8269\n",
            "Epoch 6/20\n",
            "1563/1563 [==============================] - 23s 15ms/step - loss: 0.4501 - accuracy: 0.8398\n",
            "Epoch 7/20\n",
            "1563/1563 [==============================] - 24s 15ms/step - loss: 0.4096 - accuracy: 0.8544\n",
            "Epoch 8/20\n",
            "1563/1563 [==============================] - 24s 15ms/step - loss: 0.3795 - accuracy: 0.8640\n",
            "Epoch 9/20\n",
            "1563/1563 [==============================] - 23s 15ms/step - loss: 0.3422 - accuracy: 0.8770\n",
            "Epoch 10/20\n",
            "1563/1563 [==============================] - 24s 15ms/step - loss: 0.3126 - accuracy: 0.8875\n",
            "Epoch 11/20\n",
            "1563/1563 [==============================] - 24s 16ms/step - loss: 0.2916 - accuracy: 0.8936\n",
            "Epoch 12/20\n",
            "1563/1563 [==============================] - 25s 16ms/step - loss: 0.2622 - accuracy: 0.9074\n",
            "Epoch 13/20\n",
            "1563/1563 [==============================] - 23s 15ms/step - loss: 0.2382 - accuracy: 0.9159\n",
            "Epoch 14/20\n",
            "1563/1563 [==============================] - 25s 16ms/step - loss: 0.2276 - accuracy: 0.9169\n",
            "Epoch 15/20\n",
            "1563/1563 [==============================] - 23s 15ms/step - loss: 0.2134 - accuracy: 0.9235\n",
            "Epoch 16/20\n",
            "1563/1563 [==============================] - 22s 14ms/step - loss: 0.2002 - accuracy: 0.9282\n",
            "Epoch 17/20\n",
            "1563/1563 [==============================] - 24s 16ms/step - loss: 0.1849 - accuracy: 0.9333\n",
            "Epoch 18/20\n",
            "1563/1563 [==============================] - 26s 17ms/step - loss: 0.1717 - accuracy: 0.9380\n",
            "Epoch 19/20\n",
            "1563/1563 [==============================] - 23s 15ms/step - loss: 0.1708 - accuracy: 0.9390\n",
            "Epoch 20/20\n",
            "1563/1563 [==============================] - 22s 14ms/step - loss: 0.1578 - accuracy: 0.9436\n"
          ]
        },
        {
          "data": {
            "text/plain": [
              "<keras.src.callbacks.History at 0x278bb208d90>"
            ]
          },
          "execution_count": 32,
          "metadata": {},
          "output_type": "execute_result"
        }
      ],
      "source": [
        "ann.fit(X_train, y_train, epochs=20)"
      ]
    },
    {
      "cell_type": "code",
      "execution_count": 34,
      "metadata": {
        "colab": {
          "base_uri": "https://localhost:8080/"
        },
        "id": "tMUBfmRegxkh",
        "outputId": "2d4ce67f-b165-4f04-df4e-eb1a7bf911bb"
      },
      "outputs": [
        {
          "name": "stdout",
          "output_type": "stream",
          "text": [
            "313/313 [==============================] - 1s 5ms/step\n",
            "Classification Report: \n",
            "               precision    recall  f1-score   support\n",
            "\n",
            "           0       0.70      0.78      0.74      1000\n",
            "           1       0.87      0.76      0.81      1000\n",
            "           2       0.55      0.71      0.62      1000\n",
            "           3       0.58      0.43      0.49      1000\n",
            "           4       0.73      0.61      0.66      1000\n",
            "           5       0.60      0.64      0.62      1000\n",
            "           6       0.74      0.82      0.78      1000\n",
            "           7       0.79      0.74      0.76      1000\n",
            "           8       0.86      0.76      0.81      1000\n",
            "           9       0.71      0.84      0.77      1000\n",
            "\n",
            "    accuracy                           0.71     10000\n",
            "   macro avg       0.71      0.71      0.71     10000\n",
            "weighted avg       0.71      0.71      0.71     10000\n",
            "\n"
          ]
        }
      ],
      "source": [
        "from sklearn.metrics import confusion_matrix , classification_report\n",
        "y_pred = ann.predict(X_test)\n",
        "y_pred_classes = [np.argmax(element) for element in y_pred]\n",
        "y_pred[:5]\n",
        "y_pred_classes[:5]\n",
        "print(\"Classification Report: \\n\", classification_report(y_test, y_pred_classes))"
      ]
    },
    {
      "cell_type": "code",
      "execution_count": 35,
      "metadata": {
        "colab": {
          "base_uri": "https://localhost:8080/",
          "height": 237
        },
        "id": "-5GifWFphd74",
        "outputId": "3c814d08-1b80-4a1b-ed87-ed3c36e8bc88"
      },
      "outputs": [
        {
          "data": {
            "image/png": "[encoded data removed]",
            "text/plain": [
              "<Figure size 1500x200 with 1 Axes>"
            ]
          },
          "metadata": {},
          "output_type": "display_data"
        }
      ],
      "source": [
        "plot_exemple(X_test, y_test,1444)"
      ]
    },
    {
      "cell_type": "code",
      "execution_count": 36,
      "metadata": {
        "colab": {
          "base_uri": "https://localhost:8080/",
          "height": 35
        },
        "id": "FpxxcjkRhre6",
        "outputId": "16fab5df-9421-48aa-8a99-7855424e1259"
      },
      "outputs": [
        {
          "data": {
            "text/plain": [
              "'automobile'"
            ]
          },
          "execution_count": 36,
          "metadata": {},
          "output_type": "execute_result"
        }
      ],
      "source": [
        "classes[y_pred_classes[1444]]\n"
      ]
    },
    {
      "cell_type": "markdown",
      "metadata": {},
      "source": [
        "Test With Own image\n"
      ]
    },
    {
      "cell_type": "code",
      "execution_count": 37,
      "metadata": {},
      "outputs": [],
      "source": [
        "import cv2\n",
        "from keras.preprocessing import image"
      ]
    },
    {
      "cell_type": "code",
      "execution_count": 41,
      "metadata": {},
      "outputs": [],
      "source": [
        "# Load the image\n",
        "img = cv2.imread('plane.jpg')\n",
        "\n",
        "# resize to 32x32\n",
        "img = cv2.resize(img, (32, 32))\n",
        "\n",
        "# Convert the image to an array\n",
        "img = image.img_to_array(img)\n",
        "\n",
        "# Expand dimensions to be (1, 32, 32, 3)\n",
        "img = np.expand_dims(img, axis=0)\n",
        "\n",
        "# Normalize the image (as was done with training/test sets)\n",
        "img = img/255.0"
      ]
    },
    {
      "cell_type": "code",
      "execution_count": 46,
      "metadata": {},
      "outputs": [
        {
          "data": {
            "image/png": "[encoded data removed]",
            "text/plain": [
              "<Figure size 640x480 with 1 Axes>"
            ]
          },
          "metadata": {},
          "output_type": "display_data"
        }
      ],
      "source": [
        "# Display the image\n",
        "plt.imshow(cv2.cvtColor(img.squeeze(), cv2.COLOR_BGR2RGB))\n",
        "plt.show()"
      ]
    },
    {
      "cell_type": "code",
      "execution_count": 42,
      "metadata": {},
      "outputs": [
        {
          "name": "stdout",
          "output_type": "stream",
          "text": [
            "1/1 [==============================] - 0s 132ms/step\n",
            "The model predicts that the image is a airplane\n"
          ]
        }
      ],
      "source": [
        "# Generate prediction\n",
        "pred = ann.predict(img)\n",
        "\n",
        "# Get the class with the maximum probability\n",
        "class_index = np.argmax(pred)\n",
        "\n",
        "# Get the corresponding class name\n",
        "class_name = classes[class_index]\n",
        "\n",
        "print(\"The model predicts that the image is a\", class_name)"
      ]
    }
  ],
  "metadata": {
    "colab": {
      "provenance": []
    },
    "kernelspec": {
      "display_name": "Python 3",
      "name": "python3"
    },
    "language_info": {
      "codemirror_mode": {
        "name": "ipython",
        "version": 3
      },
      "file_extension": ".py",
      "mimetype": "text/x-python",
      "name": "python",
      "nbconvert_exporter": "python",
      "pygments_lexer": "ipython3",
      "version": "3.11.6"
    }
  },
  "nbformat": 4,
  "nbformat_minor": 0
}
